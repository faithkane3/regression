{
 "cells": [
  {
   "cell_type": "code",
   "execution_count": 1,
   "metadata": {},
   "outputs": [],
   "source": [
    "import pandas as pd\n",
    "import numpy as np\n",
    "\n",
    "import seaborn as sns\n",
    "import matplotlib.pyplot as plt\n",
    "\n",
    "from math import sqrt\n",
    "from scipy import stats\n",
    "\n",
    "import warnings\n",
    "warnings.filterwarnings(\"ignore\")\n",
    "\n",
    "from split_scale import split_my_data, standard_scaler, min_max_scaler, iqr_robust_scaler, uniform_scaler\n",
    "from wrangle import wrangle_telco\n",
    "from wrangle_zillow import wrangle_zillow"
   ]
  },
  {
   "cell_type": "markdown",
   "metadata": {},
   "source": [
    "## Acquire and Prep Data from Codeup Database"
   ]
  },
  {
   "cell_type": "code",
   "execution_count": 2,
   "metadata": {},
   "outputs": [
    {
     "data": {
      "text/html": [
       "<div>\n",
       "<style scoped>\n",
       "    .dataframe tbody tr th:only-of-type {\n",
       "        vertical-align: middle;\n",
       "    }\n",
       "\n",
       "    .dataframe tbody tr th {\n",
       "        vertical-align: top;\n",
       "    }\n",
       "\n",
       "    .dataframe thead th {\n",
       "        text-align: right;\n",
       "    }\n",
       "</style>\n",
       "<table border=\"1\" class=\"dataframe\">\n",
       "  <thead>\n",
       "    <tr style=\"text-align: right;\">\n",
       "      <th></th>\n",
       "      <th>customer_id</th>\n",
       "      <th>monthly_charges</th>\n",
       "      <th>tenure</th>\n",
       "      <th>total_charges</th>\n",
       "    </tr>\n",
       "  </thead>\n",
       "  <tbody>\n",
       "    <tr>\n",
       "      <th>0</th>\n",
       "      <td>0013-SMEOE</td>\n",
       "      <td>109.70</td>\n",
       "      <td>71</td>\n",
       "      <td>7904.25</td>\n",
       "    </tr>\n",
       "    <tr>\n",
       "      <th>1</th>\n",
       "      <td>0014-BMAQU</td>\n",
       "      <td>84.65</td>\n",
       "      <td>63</td>\n",
       "      <td>5377.80</td>\n",
       "    </tr>\n",
       "    <tr>\n",
       "      <th>2</th>\n",
       "      <td>0016-QLJIS</td>\n",
       "      <td>90.45</td>\n",
       "      <td>65</td>\n",
       "      <td>5957.90</td>\n",
       "    </tr>\n",
       "    <tr>\n",
       "      <th>3</th>\n",
       "      <td>0017-DINOC</td>\n",
       "      <td>45.20</td>\n",
       "      <td>54</td>\n",
       "      <td>2460.55</td>\n",
       "    </tr>\n",
       "    <tr>\n",
       "      <th>4</th>\n",
       "      <td>0017-IUDMW</td>\n",
       "      <td>116.80</td>\n",
       "      <td>72</td>\n",
       "      <td>8456.75</td>\n",
       "    </tr>\n",
       "  </tbody>\n",
       "</table>\n",
       "</div>"
      ],
      "text/plain": [
       "  customer_id  monthly_charges  tenure  total_charges\n",
       "0  0013-SMEOE           109.70      71        7904.25\n",
       "1  0014-BMAQU            84.65      63        5377.80\n",
       "2  0016-QLJIS            90.45      65        5957.90\n",
       "3  0017-DINOC            45.20      54        2460.55\n",
       "4  0017-IUDMW           116.80      72        8456.75"
      ]
     },
     "execution_count": 2,
     "metadata": {},
     "output_type": "execute_result"
    }
   ],
   "source": [
    "telco = wrangle_telco()\n",
    "telco.head()"
   ]
  },
  {
   "cell_type": "code",
   "execution_count": 3,
   "metadata": {},
   "outputs": [
    {
     "name": "stdout",
     "output_type": "stream",
     "text": [
      "<class 'pandas.core.frame.DataFrame'>\n",
      "RangeIndex: 1695 entries, 0 to 1694\n",
      "Data columns (total 4 columns):\n",
      " #   Column           Non-Null Count  Dtype  \n",
      "---  ------           --------------  -----  \n",
      " 0   customer_id      1695 non-null   object \n",
      " 1   monthly_charges  1695 non-null   float64\n",
      " 2   tenure           1695 non-null   int64  \n",
      " 3   total_charges    1695 non-null   float64\n",
      "dtypes: float64(2), int64(1), object(1)\n",
      "memory usage: 53.1+ KB\n"
     ]
    }
   ],
   "source": [
    "telco.info()"
   ]
  },
  {
   "cell_type": "code",
   "execution_count": 4,
   "metadata": {},
   "outputs": [
    {
     "data": {
      "text/html": [
       "<div>\n",
       "<style scoped>\n",
       "    .dataframe tbody tr th:only-of-type {\n",
       "        vertical-align: middle;\n",
       "    }\n",
       "\n",
       "    .dataframe tbody tr th {\n",
       "        vertical-align: top;\n",
       "    }\n",
       "\n",
       "    .dataframe thead th {\n",
       "        text-align: right;\n",
       "    }\n",
       "</style>\n",
       "<table border=\"1\" class=\"dataframe\">\n",
       "  <thead>\n",
       "    <tr style=\"text-align: right;\">\n",
       "      <th></th>\n",
       "      <th>bedrooms</th>\n",
       "      <th>bathrooms</th>\n",
       "      <th>square_feet</th>\n",
       "      <th>taxes</th>\n",
       "      <th>home_value</th>\n",
       "      <th>propertylandusedesc</th>\n",
       "      <th>fips_number</th>\n",
       "      <th>zip_code</th>\n",
       "    </tr>\n",
       "  </thead>\n",
       "  <tbody>\n",
       "    <tr>\n",
       "      <th>0</th>\n",
       "      <td>4.0</td>\n",
       "      <td>2.0</td>\n",
       "      <td>1604</td>\n",
       "      <td>6089.82</td>\n",
       "      <td>498347.0</td>\n",
       "      <td>Single Family Residential</td>\n",
       "      <td>6037</td>\n",
       "      <td>96415.0</td>\n",
       "    </tr>\n",
       "    <tr>\n",
       "      <th>1</th>\n",
       "      <td>3.0</td>\n",
       "      <td>3.0</td>\n",
       "      <td>2384</td>\n",
       "      <td>6679.55</td>\n",
       "      <td>549917.0</td>\n",
       "      <td>Single Family Residential</td>\n",
       "      <td>6037</td>\n",
       "      <td>96452.0</td>\n",
       "    </tr>\n",
       "    <tr>\n",
       "      <th>2</th>\n",
       "      <td>3.0</td>\n",
       "      <td>2.0</td>\n",
       "      <td>1574</td>\n",
       "      <td>3876.31</td>\n",
       "      <td>235272.0</td>\n",
       "      <td>Single Family Residential</td>\n",
       "      <td>6037</td>\n",
       "      <td>97319.0</td>\n",
       "    </tr>\n",
       "    <tr>\n",
       "      <th>3</th>\n",
       "      <td>2.0</td>\n",
       "      <td>2.0</td>\n",
       "      <td>1619</td>\n",
       "      <td>4206.15</td>\n",
       "      <td>340000.0</td>\n",
       "      <td>Single Family Residential</td>\n",
       "      <td>6037</td>\n",
       "      <td>97329.0</td>\n",
       "    </tr>\n",
       "    <tr>\n",
       "      <th>4</th>\n",
       "      <td>2.0</td>\n",
       "      <td>3.0</td>\n",
       "      <td>2408</td>\n",
       "      <td>24353.42</td>\n",
       "      <td>2017254.0</td>\n",
       "      <td>Single Family Residential</td>\n",
       "      <td>6037</td>\n",
       "      <td>96086.0</td>\n",
       "    </tr>\n",
       "  </tbody>\n",
       "</table>\n",
       "</div>"
      ],
      "text/plain": [
       "   bedrooms  bathrooms  square_feet     taxes  home_value  \\\n",
       "0       4.0        2.0         1604   6089.82    498347.0   \n",
       "1       3.0        3.0         2384   6679.55    549917.0   \n",
       "2       3.0        2.0         1574   3876.31    235272.0   \n",
       "3       2.0        2.0         1619   4206.15    340000.0   \n",
       "4       2.0        3.0         2408  24353.42   2017254.0   \n",
       "\n",
       "         propertylandusedesc  fips_number zip_code  \n",
       "0  Single Family Residential         6037  96415.0  \n",
       "1  Single Family Residential         6037  96452.0  \n",
       "2  Single Family Residential         6037  97319.0  \n",
       "3  Single Family Residential         6037  97329.0  \n",
       "4  Single Family Residential         6037  96086.0  "
      ]
     },
     "execution_count": 4,
     "metadata": {},
     "output_type": "execute_result"
    }
   ],
   "source": [
    "zillow = wrangle_zillow()\n",
    "zillow.head()"
   ]
  },
  {
   "cell_type": "markdown",
   "metadata": {},
   "source": [
    "## Split Data"
   ]
  },
  {
   "cell_type": "code",
   "execution_count": 5,
   "metadata": {},
   "outputs": [],
   "source": [
    "telco_train, telco_validate, telco_test = split_my_data(telco)"
   ]
  },
  {
   "cell_type": "code",
   "execution_count": 6,
   "metadata": {},
   "outputs": [
    {
     "name": "stdout",
     "output_type": "stream",
     "text": [
      "train -> (949, 4)\n",
      "validate -> (407, 4)\n",
      "test -> (339, 4)\n"
     ]
    }
   ],
   "source": [
    "print(f'train -> {telco_train.shape}')\n",
    "print(f'validate -> {telco_validate.shape}')\n",
    "print(f'test -> {telco_test.shape}')"
   ]
  },
  {
   "cell_type": "markdown",
   "metadata": {},
   "source": [
    "## Scale Data"
   ]
  },
  {
   "cell_type": "code",
   "execution_count": 7,
   "metadata": {},
   "outputs": [],
   "source": [
    "scaler, telco_train_scaled, telco_validate_scaled, telco_test_scaled = standard_scaler(['monthly_charges', 'tenure', 'total_charges'], telco_train, telco_validate, telco_test)"
   ]
  },
  {
   "cell_type": "code",
   "execution_count": 8,
   "metadata": {},
   "outputs": [
    {
     "data": {
      "text/plain": [
       "StandardScaler(copy=True, with_mean=True, with_std=True)"
      ]
     },
     "execution_count": 8,
     "metadata": {},
     "output_type": "execute_result"
    }
   ],
   "source": [
    "scaler"
   ]
  },
  {
   "cell_type": "code",
   "execution_count": 9,
   "metadata": {},
   "outputs": [
    {
     "data": {
      "text/html": [
       "<div>\n",
       "<style scoped>\n",
       "    .dataframe tbody tr th:only-of-type {\n",
       "        vertical-align: middle;\n",
       "    }\n",
       "\n",
       "    .dataframe tbody tr th {\n",
       "        vertical-align: top;\n",
       "    }\n",
       "\n",
       "    .dataframe thead th {\n",
       "        text-align: right;\n",
       "    }\n",
       "</style>\n",
       "<table border=\"1\" class=\"dataframe\">\n",
       "  <thead>\n",
       "    <tr style=\"text-align: right;\">\n",
       "      <th></th>\n",
       "      <th>customer_id</th>\n",
       "      <th>monthly_charges</th>\n",
       "      <th>tenure</th>\n",
       "      <th>total_charges</th>\n",
       "      <th>monthly_charges_scaled</th>\n",
       "      <th>tenure_scaled</th>\n",
       "      <th>total_charges_scaled</th>\n",
       "    </tr>\n",
       "  </thead>\n",
       "  <tbody>\n",
       "    <tr>\n",
       "      <th>1256</th>\n",
       "      <td>7501-IWUNG</td>\n",
       "      <td>73.80</td>\n",
       "      <td>61</td>\n",
       "      <td>4616.05</td>\n",
       "      <td>0.361757</td>\n",
       "      <td>0.245462</td>\n",
       "      <td>0.341049</td>\n",
       "    </tr>\n",
       "    <tr>\n",
       "      <th>225</th>\n",
       "      <td>1303-SRDOK</td>\n",
       "      <td>69.05</td>\n",
       "      <td>55</td>\n",
       "      <td>3842.60</td>\n",
       "      <td>0.225110</td>\n",
       "      <td>-0.082012</td>\n",
       "      <td>0.043393</td>\n",
       "    </tr>\n",
       "    <tr>\n",
       "      <th>662</th>\n",
       "      <td>3967-VQOGC</td>\n",
       "      <td>24.90</td>\n",
       "      <td>67</td>\n",
       "      <td>1680.25</td>\n",
       "      <td>-1.044987</td>\n",
       "      <td>0.572936</td>\n",
       "      <td>-0.788773</td>\n",
       "    </tr>\n",
       "    <tr>\n",
       "      <th>628</th>\n",
       "      <td>3777-XROBG</td>\n",
       "      <td>19.55</td>\n",
       "      <td>58</td>\n",
       "      <td>1079.65</td>\n",
       "      <td>-1.198894</td>\n",
       "      <td>0.081725</td>\n",
       "      <td>-1.019909</td>\n",
       "    </tr>\n",
       "    <tr>\n",
       "      <th>824</th>\n",
       "      <td>5075-JSDKI</td>\n",
       "      <td>24.45</td>\n",
       "      <td>59</td>\n",
       "      <td>1493.10</td>\n",
       "      <td>-1.057932</td>\n",
       "      <td>0.136304</td>\n",
       "      <td>-0.860796</td>\n",
       "    </tr>\n",
       "  </tbody>\n",
       "</table>\n",
       "</div>"
      ],
      "text/plain": [
       "     customer_id  monthly_charges  tenure  total_charges  \\\n",
       "1256  7501-IWUNG            73.80      61        4616.05   \n",
       "225   1303-SRDOK            69.05      55        3842.60   \n",
       "662   3967-VQOGC            24.90      67        1680.25   \n",
       "628   3777-XROBG            19.55      58        1079.65   \n",
       "824   5075-JSDKI            24.45      59        1493.10   \n",
       "\n",
       "      monthly_charges_scaled  tenure_scaled  total_charges_scaled  \n",
       "1256                0.361757       0.245462              0.341049  \n",
       "225                 0.225110      -0.082012              0.043393  \n",
       "662                -1.044987       0.572936             -0.788773  \n",
       "628                -1.198894       0.081725             -1.019909  \n",
       "824                -1.057932       0.136304             -0.860796  "
      ]
     },
     "execution_count": 9,
     "metadata": {},
     "output_type": "execute_result"
    }
   ],
   "source": [
    "telco_train_scaled.head()"
   ]
  },
  {
   "cell_type": "markdown",
   "metadata": {},
   "source": [
    "## `.inverse_transform()`\n",
    "\n",
    "Apply the `.inverse_transform()` method to your scaled data. Is the resulting dataset the exact same as the original data?\n",
    "\n",
    "**Yes, it looks exactly the same.**"
   ]
  },
  {
   "cell_type": "code",
   "execution_count": 10,
   "metadata": {},
   "outputs": [],
   "source": [
    "columns_to_unscale = ['monthly_charges_scaled', 'tenure_scaled', 'total_charges_scaled']\n",
    "new_column_names = ['unscaled_monthly_charges', 'unscaled_tenure', 'unscaled_total_charges']"
   ]
  },
  {
   "cell_type": "code",
   "execution_count": 11,
   "metadata": {},
   "outputs": [],
   "source": [
    "telco_train_unscaled = pd.concat([\n",
    "                        telco_train,\n",
    "                        pd.DataFrame(scaler.inverse_transform(telco_train_scaled[columns_to_unscale]), \n",
    "                        columns=new_column_names, \n",
    "                        index=telco_train.index)],\n",
    "                        axis=1)"
   ]
  },
  {
   "cell_type": "code",
   "execution_count": 12,
   "metadata": {},
   "outputs": [
    {
     "data": {
      "text/html": [
       "<div>\n",
       "<style scoped>\n",
       "    .dataframe tbody tr th:only-of-type {\n",
       "        vertical-align: middle;\n",
       "    }\n",
       "\n",
       "    .dataframe tbody tr th {\n",
       "        vertical-align: top;\n",
       "    }\n",
       "\n",
       "    .dataframe thead th {\n",
       "        text-align: right;\n",
       "    }\n",
       "</style>\n",
       "<table border=\"1\" class=\"dataframe\">\n",
       "  <thead>\n",
       "    <tr style=\"text-align: right;\">\n",
       "      <th></th>\n",
       "      <th>customer_id</th>\n",
       "      <th>monthly_charges</th>\n",
       "      <th>tenure</th>\n",
       "      <th>total_charges</th>\n",
       "      <th>unscaled_monthly_charges</th>\n",
       "      <th>unscaled_tenure</th>\n",
       "      <th>unscaled_total_charges</th>\n",
       "    </tr>\n",
       "  </thead>\n",
       "  <tbody>\n",
       "    <tr>\n",
       "      <th>1256</th>\n",
       "      <td>7501-IWUNG</td>\n",
       "      <td>73.80</td>\n",
       "      <td>61</td>\n",
       "      <td>4616.05</td>\n",
       "      <td>73.80</td>\n",
       "      <td>61.0</td>\n",
       "      <td>4616.05</td>\n",
       "    </tr>\n",
       "    <tr>\n",
       "      <th>225</th>\n",
       "      <td>1303-SRDOK</td>\n",
       "      <td>69.05</td>\n",
       "      <td>55</td>\n",
       "      <td>3842.60</td>\n",
       "      <td>69.05</td>\n",
       "      <td>55.0</td>\n",
       "      <td>3842.60</td>\n",
       "    </tr>\n",
       "    <tr>\n",
       "      <th>662</th>\n",
       "      <td>3967-VQOGC</td>\n",
       "      <td>24.90</td>\n",
       "      <td>67</td>\n",
       "      <td>1680.25</td>\n",
       "      <td>24.90</td>\n",
       "      <td>67.0</td>\n",
       "      <td>1680.25</td>\n",
       "    </tr>\n",
       "    <tr>\n",
       "      <th>628</th>\n",
       "      <td>3777-XROBG</td>\n",
       "      <td>19.55</td>\n",
       "      <td>58</td>\n",
       "      <td>1079.65</td>\n",
       "      <td>19.55</td>\n",
       "      <td>58.0</td>\n",
       "      <td>1079.65</td>\n",
       "    </tr>\n",
       "    <tr>\n",
       "      <th>824</th>\n",
       "      <td>5075-JSDKI</td>\n",
       "      <td>24.45</td>\n",
       "      <td>59</td>\n",
       "      <td>1493.10</td>\n",
       "      <td>24.45</td>\n",
       "      <td>59.0</td>\n",
       "      <td>1493.10</td>\n",
       "    </tr>\n",
       "  </tbody>\n",
       "</table>\n",
       "</div>"
      ],
      "text/plain": [
       "     customer_id  monthly_charges  tenure  total_charges  \\\n",
       "1256  7501-IWUNG            73.80      61        4616.05   \n",
       "225   1303-SRDOK            69.05      55        3842.60   \n",
       "662   3967-VQOGC            24.90      67        1680.25   \n",
       "628   3777-XROBG            19.55      58        1079.65   \n",
       "824   5075-JSDKI            24.45      59        1493.10   \n",
       "\n",
       "      unscaled_monthly_charges  unscaled_tenure  unscaled_total_charges  \n",
       "1256                     73.80             61.0                 4616.05  \n",
       "225                      69.05             55.0                 3842.60  \n",
       "662                      24.90             67.0                 1680.25  \n",
       "628                      19.55             58.0                 1079.65  \n",
       "824                      24.45             59.0                 1493.10  "
      ]
     },
     "execution_count": 12,
     "metadata": {},
     "output_type": "execute_result"
    }
   ],
   "source": [
    "telco_train_unscaled.head()"
   ]
  }
 ],
 "metadata": {
  "kernelspec": {
   "display_name": "Python 3",
   "language": "python",
   "name": "python3"
  },
  "language_info": {
   "codemirror_mode": {
    "name": "ipython",
    "version": 3
   },
   "file_extension": ".py",
   "mimetype": "text/x-python",
   "name": "python",
   "nbconvert_exporter": "python",
   "pygments_lexer": "ipython3",
   "version": "3.7.4"
  }
 },
 "nbformat": 4,
 "nbformat_minor": 4
}
